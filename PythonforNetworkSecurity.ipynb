{
  "nbformat": 4,
  "nbformat_minor": 0,
  "metadata": {
    "colab": {
      "name": "PythonforNetworkSecurity.ipynb",
      "provenance": [],
      "collapsed_sections": []
    },
    "kernelspec": {
      "name": "python3",
      "display_name": "Python 3"
    },
    "language_info": {
      "name": "python"
    }
  },
  "cells": [
    {
      "cell_type": "markdown",
      "metadata": {
        "id": "I4N9LJVa-apB"
      },
      "source": [
        "##Importing Libraries"
      ]
    },
    {
      "cell_type": "code",
      "metadata": {
        "id": "87dn5ZMy9sRu"
      },
      "source": [
        "import hashlib"
      ],
      "execution_count": 95,
      "outputs": []
    },
    {
      "cell_type": "markdown",
      "metadata": {
        "id": "57Nie5vo3tbH"
      },
      "source": [
        "##Taking Password as an input"
      ]
    },
    {
      "cell_type": "code",
      "metadata": {
        "colab": {
          "base_uri": "https://localhost:8080/"
        },
        "id": "dvz9BeS891_n",
        "outputId": "bccbf08f-828a-4b1e-9e46-16c0dae07b4a"
      },
      "source": [
        "d = str(input(\"Enter the password\"))\n"
      ],
      "execution_count": 86,
      "outputs": [
        {
          "output_type": "stream",
          "text": [
            "Enter the password Pass\n"
          ],
          "name": "stdout"
        }
      ]
    },
    {
      "cell_type": "markdown",
      "metadata": {
        "id": "eWoXQHT_3xzc"
      },
      "source": [
        "##Hashing of Password using different algorithams"
      ]
    },
    {
      "cell_type": "code",
      "metadata": {
        "colab": {
          "base_uri": "https://localhost:8080/"
        },
        "id": "MohsL-Lm-R66",
        "outputId": "88d05cbe-8109-463b-b189-5dd873ef58ea"
      },
      "source": [
        "#d1 = hashlib.md5(\"d\".encode('utf8'))\n",
        "d1 = hashlib.md5(\"d\".encode()).hexdigest()\n",
        "\n",
        "print('MD5 hash of password:', d1)\n",
        "\n",
        "#hashing using sha256\n",
        "d2 = hashlib.sha256(\"d\".encode('utf-8')).hexdigest()\n",
        "print('SHA256 hash of password:',d2)\n",
        "\n",
        "\n",
        "#hashing using SHA1\n",
        "d3 = hashlib.sha1(\"d\".encode('utf-8')).hexdigest()\n",
        "print('SHA1 hash of password:',d3)\n",
        "\n",
        "#hasing using SHA224\n",
        "d4 = hashlib.sha224(\"d\".encode('utf-8')).hexdigest()\n",
        "print('SHA224 hash of password:',d4)\n",
        "\n",
        "\n",
        "\n"
      ],
      "execution_count": 91,
      "outputs": [
        {
          "output_type": "stream",
          "text": [
            "MD5 hash of password: 8277e0910d750195b448797616e091ad\n",
            "SHA256 hash of password: 18ac3e7343f016890c510e93f935261169d9e3f565436429830faf0934f4f8e4\n",
            "SHA1 hash of password: 3c363836cf4e16666669a25da280a1865c2d2874\n",
            "SHA224 hash of password: 06c9f71496e24dec6acc44895648cf9ec40b5cebb7bc4858a3c69f25\n"
          ],
          "name": "stdout"
        }
      ]
    },
    {
      "cell_type": "markdown",
      "metadata": {
        "id": "NFD9hq_l4KiP"
      },
      "source": [
        "##Adding Iterations and Salting to Hashing"
      ]
    },
    {
      "cell_type": "code",
      "metadata": {
        "colab": {
          "base_uri": "https://localhost:8080/"
        },
        "id": "JOZcXKMMnf8d",
        "outputId": "7ce4efba-ac0b-42e4-833a-da4cd63f1dd6"
      },
      "source": [
        "#Adding salt and Iterations\n",
        "\n",
        "#MD5 with salt and iterations\n",
        "dk1 = hashlib.pbkdf2_hmac('md5', b'd', b'salt', 100000)\n",
        "d11 = dk2.hex()\n",
        "print('MD5 hash of password with salt and iterations:',d11)\n",
        "\n",
        "#SHA256 with salt and iterations\n",
        "dk2 = hashlib.pbkdf2_hmac('sha256', b'd', b'salt', 100000)\n",
        "d12 = dk2.hex()\n",
        "print('Sha256 hash of password with salt and iterations:',d12)\n",
        "\n",
        "#SHA1 with salt and iterations\n",
        "dk3 = hashlib.pbkdf2_hmac('sha1', b'd', b'salt', 100000)\n",
        "d13 = dk3.hex()\n",
        "print('Sha1 hash of password with salt and iterations:',d13)\n",
        "\n",
        "#SHA224 with salt and iterations\n",
        "dk4 = hashlib.pbkdf2_hmac('sha224', b'd', b'salt', 100000)\n",
        "d14 = dk4.hex()\n",
        "print('Sha224 hash of password with salt and iterations:',d14)\n"
      ],
      "execution_count": 93,
      "outputs": [
        {
          "output_type": "stream",
          "text": [
            "MD5 hash of password with salt and iterations: 6aadd9f725cb187480b920803cd72ef723a736c4ff3338329e7292ed0db19eaf\n",
            "Sha256 hash of password with salt and iterations: 6aadd9f725cb187480b920803cd72ef723a736c4ff3338329e7292ed0db19eaf\n",
            "Sha1 hash of password with salt and iterations: 63c77ee561bdf768471ae78b3858877ef218eaa8\n",
            "Sha224 hash of password with salt and iterations: af831daf824a3ebee57edfa8913c1de1a3c7621d13754442266fd1c3\n"
          ],
          "name": "stdout"
        }
      ]
    },
    {
      "cell_type": "markdown",
      "metadata": {
        "id": "i7Hkw5vx-ZgG"
      },
      "source": [
        ""
      ]
    },
    {
      "cell_type": "markdown",
      "metadata": {
        "id": "_y_TvXVB4OEO"
      },
      "source": [
        "##Different types of Hashing Algorithams Available - For Reference"
      ]
    },
    {
      "cell_type": "code",
      "metadata": {
        "colab": {
          "base_uri": "https://localhost:8080/"
        },
        "id": "ACkIyuW2-Vyv",
        "outputId": "cc191876-1829-4bd6-8d54-8ac5fc1633f7"
      },
      "source": [
        "hashlib.algorithms_available\n"
      ],
      "execution_count": null,
      "outputs": [
        {
          "output_type": "execute_result",
          "data": {
            "text/plain": [
              "{'blake2b',\n",
              " 'blake2s',\n",
              " 'md5',\n",
              " 'sha1',\n",
              " 'sha224',\n",
              " 'sha256',\n",
              " 'sha384',\n",
              " 'sha3_224',\n",
              " 'sha3_256',\n",
              " 'sha3_384',\n",
              " 'sha3_512',\n",
              " 'sha512',\n",
              " 'shake_128',\n",
              " 'shake_256'}"
            ]
          },
          "metadata": {
            "tags": []
          },
          "execution_count": 6
        }
      ]
    },
    {
      "cell_type": "code",
      "metadata": {
        "id": "JTKaQoWj-o-t"
      },
      "source": [
        ""
      ],
      "execution_count": null,
      "outputs": []
    }
  ]
}