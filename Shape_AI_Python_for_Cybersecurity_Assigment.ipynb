{
 "cells": [
  {
   "cell_type": "markdown",
   "metadata": {
    "id": "lEKBvh00LZJz"
   },
   "source": [
    "# Importing the Modules"
   ]
  },
  {
   "cell_type": "code",
   "execution_count": 1,
   "metadata": {
    "colab": {
     "base_uri": "https://localhost:8080/"
    },
    "id": "3EGipUslaT_1",
    "outputId": "0608cd9b-92b0-4e07-d731-bd753b7528a8"
   },
   "outputs": [],
   "source": [
    "import requests as rq\n",
    "from datetime import datetime"
   ]
  },
  {
   "cell_type": "markdown",
   "metadata": {
    "id": "vB2Y9VE0LwDf"
   },
   "source": [
    "# Setting the API and Getting the City Name"
   ]
  },
  {
   "cell_type": "code",
   "execution_count": 2,
   "metadata": {
    "id": "GV8RlyRtLwvg"
   },
   "outputs": [
    {
     "name": "stdout",
     "output_type": "stream",
     "text": [
      "Enter the city name:London\n"
     ]
    }
   ],
   "source": [
    "api_key = '87d845b0b6cf29baa1a73cc34b067a95'\n",
    "location = input(\"Enter the city name:\")"
   ]
  },
  {
   "cell_type": "markdown",
   "metadata": {
    "id": "WoIpt1_dL_zq"
   },
   "source": [
    "# Getting the Parameters from the API link "
   ]
  },
  {
   "cell_type": "code",
   "execution_count": 4,
   "metadata": {
    "id": "vI1SewlJLpKf"
   },
   "outputs": [],
   "source": [
    "complete_api_link = \"https://api.openweathermap.org/data/2.5/weather?q=London&appid=87d845b0b6cf29baa1a73cc34b067a95\"\n",
    "api_link = rq.get(complete_api_link)\n",
    "api_data = api_link.json()\n",
    "\n",
    "temp_city = ((api_data['main']['temp']) - 273.17)\n",
    "weather_desc = api_data['weather'][0]['description']\n",
    "hmdt = api_data['main']['humidity']\n",
    "wind_spd = api_data['wind']['speed']\n",
    "date_time = datetime.now().strftime(\"%d %b %Y | %I:%M:%S %p\")\n",
    "\n",
    "#writing the contents in the file\n",
    "with open(\"shape-ai-assignment.txt\", 'w') as f:\n",
    " \n",
    "    f.write(\"\\n ----------------------------------------------------------\") \n",
    "    f.write(\"\\n Weather Stats for - {}  || {}\".format(location.upper(),date_time))\n",
    "    f.write(\"\\n ---------------------------------------------------------\")\n",
    "\n",
    "    f.write(\"\\n Current temperature: {:.2f} deg Celsius\".format(temp_city))\n",
    "    f.write(\"\\n Current weather desc  :\"+ weather_desc)\n",
    "    f.write(\"\\n Current Humidity      : \"+ str(hmdt) + '%')\n",
    "    f.write(\"\\n Curret wind speed     :\"+ str(wind_spd) + 'kmph')\n",
    "f.close()"
   ]
  },
  {
   "cell_type": "markdown",
   "metadata": {
    "id": "-FYyvfckLkmx"
   },
   "source": []
  }
 ],
 "metadata": {
  "colab": {
   "collapsed_sections": [],
   "name": "Shape AI Python for Cybersecurity Assigment.ipynb",
   "provenance": []
  },
  "kernelspec": {
   "display_name": "Python 3",
   "language": "python",
   "name": "python3"
  },
  "language_info": {
   "codemirror_mode": {
    "name": "ipython",
    "version": 3
   },
   "file_extension": ".py",
   "mimetype": "text/x-python",
   "name": "python",
   "nbconvert_exporter": "python",
   "pygments_lexer": "ipython3",
   "version": "3.8.7"
  }
 },
 "nbformat": 4,
 "nbformat_minor": 1
}
